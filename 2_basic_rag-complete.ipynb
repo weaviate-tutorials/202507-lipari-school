{
 "cells": [
  {
   "cell_type": "code",
   "execution_count": 1,
   "id": "ee5b434e",
   "metadata": {},
   "outputs": [
    {
     "data": {
      "text/plain": [
       "True"
      ]
     },
     "execution_count": 1,
     "metadata": {},
     "output_type": "execute_result"
    }
   ],
   "source": [
    "from dotenv import load_dotenv\n",
    "\n",
    "load_dotenv(override=True)"
   ]
  },
  {
   "cell_type": "markdown",
   "id": "e5f86938",
   "metadata": {},
   "source": [
    "## Basic RAG with Weaviate"
   ]
  },
  {
   "cell_type": "markdown",
   "id": "c5caf639",
   "metadata": {},
   "source": [
    "Now - let's try performing RAG with the chunks that we've created. \n",
    "\n",
    "We will:\n",
    "- Load & chunk a document\n",
    "- Add the chunks to Weaviate, and generate vectors\n",
    "- And perform RAG\n",
    "\n",
    "We assume some familiarity with Weaviate here. \n",
    "\n",
    "(If not, check out the [Weaviate Quickstart](https://docs.weaviate.io/weaviate/quickstart), or ask questions in the live session!)"
   ]
  },
  {
   "cell_type": "markdown",
   "id": "7bfefcb7",
   "metadata": {},
   "source": [
    "### Load and chunk a document"
   ]
  },
  {
   "cell_type": "code",
   "execution_count": 2,
   "id": "2679d84a",
   "metadata": {},
   "outputs": [],
   "source": [
    "from pathlib import Path\n",
    "\n",
    "def get_chunks_using_markers(src_text: str) -> list[str]:\n",
    "    \"\"\"\n",
    "    Split the source text into chunks using markers.\n",
    "    \"\"\"\n",
    "    marker = \"\\n##\"\n",
    "\n",
    "    # Split by marker and reconstruct with markers (except first chunk)\n",
    "    parts = src_text.split(marker)\n",
    "    chunks = []\n",
    "\n",
    "    # Add first chunk if it exists and isn't empty\n",
    "    if parts[0].strip():\n",
    "        chunks.append(parts[0].strip())\n",
    "\n",
    "    # Add remaining chunks with markers reattached\n",
    "    for part in parts[1:]:\n",
    "        if part.strip():\n",
    "            chunks.append(marker + part.strip())\n",
    "\n",
    "    return chunks\n",
    "\n",
    "\n",
    "md_file = Path(\"data/parsed/manual_bosch_WGG254Z0GR-parsed-text.md\")\n",
    "md_text = md_file.read_text(encoding=\"utf-8\")\n",
    "chunk_texts = get_chunks_using_markers(md_text)"
   ]
  },
  {
   "cell_type": "markdown",
   "id": "3cb5b1f4",
   "metadata": {},
   "source": [
    "### Set up Weaviate"
   ]
  },
  {
   "cell_type": "code",
   "execution_count": 3,
   "id": "07fcf6de",
   "metadata": {},
   "outputs": [
    {
     "name": "stderr",
     "output_type": "stream",
     "text": [
      "/Users/jphwang/code/demo-code/202507-lipari/.venv/lib/python3.10/site-packages/google/protobuf/runtime_version.py:98: UserWarning: Protobuf gencode version 5.29.0 is exactly one major version older than the runtime version 6.31.1 at v1/aggregate.proto. Please update the gencode to avoid compatibility violations in the next runtime release.\n",
      "  warnings.warn(\n",
      "/Users/jphwang/code/demo-code/202507-lipari/.venv/lib/python3.10/site-packages/google/protobuf/runtime_version.py:98: UserWarning: Protobuf gencode version 5.29.0 is exactly one major version older than the runtime version 6.31.1 at v1/base.proto. Please update the gencode to avoid compatibility violations in the next runtime release.\n",
      "  warnings.warn(\n",
      "/Users/jphwang/code/demo-code/202507-lipari/.venv/lib/python3.10/site-packages/google/protobuf/runtime_version.py:98: UserWarning: Protobuf gencode version 5.29.0 is exactly one major version older than the runtime version 6.31.1 at v1/base_search.proto. Please update the gencode to avoid compatibility violations in the next runtime release.\n",
      "  warnings.warn(\n",
      "/Users/jphwang/code/demo-code/202507-lipari/.venv/lib/python3.10/site-packages/google/protobuf/runtime_version.py:98: UserWarning: Protobuf gencode version 5.29.0 is exactly one major version older than the runtime version 6.31.1 at v1/batch_delete.proto. Please update the gencode to avoid compatibility violations in the next runtime release.\n",
      "  warnings.warn(\n",
      "/Users/jphwang/code/demo-code/202507-lipari/.venv/lib/python3.10/site-packages/google/protobuf/runtime_version.py:98: UserWarning: Protobuf gencode version 5.29.0 is exactly one major version older than the runtime version 6.31.1 at v1/batch.proto. Please update the gencode to avoid compatibility violations in the next runtime release.\n",
      "  warnings.warn(\n",
      "/Users/jphwang/code/demo-code/202507-lipari/.venv/lib/python3.10/site-packages/google/protobuf/runtime_version.py:98: UserWarning: Protobuf gencode version 5.29.0 is exactly one major version older than the runtime version 6.31.1 at v1/search_get.proto. Please update the gencode to avoid compatibility violations in the next runtime release.\n",
      "  warnings.warn(\n",
      "/Users/jphwang/code/demo-code/202507-lipari/.venv/lib/python3.10/site-packages/google/protobuf/runtime_version.py:98: UserWarning: Protobuf gencode version 5.29.0 is exactly one major version older than the runtime version 6.31.1 at v1/generative.proto. Please update the gencode to avoid compatibility violations in the next runtime release.\n",
      "  warnings.warn(\n",
      "/Users/jphwang/code/demo-code/202507-lipari/.venv/lib/python3.10/site-packages/google/protobuf/runtime_version.py:98: UserWarning: Protobuf gencode version 5.29.0 is exactly one major version older than the runtime version 6.31.1 at v1/properties.proto. Please update the gencode to avoid compatibility violations in the next runtime release.\n",
      "  warnings.warn(\n",
      "/Users/jphwang/code/demo-code/202507-lipari/.venv/lib/python3.10/site-packages/google/protobuf/runtime_version.py:98: UserWarning: Protobuf gencode version 5.29.0 is exactly one major version older than the runtime version 6.31.1 at v1/tenants.proto. Please update the gencode to avoid compatibility violations in the next runtime release.\n",
      "  warnings.warn(\n"
     ]
    }
   ],
   "source": [
    "import weaviate\n",
    "import os\n",
    "\n",
    "client = weaviate.connect_to_weaviate_cloud(\n",
    "    cluster_url=os.getenv(\"WEAVIATE_URL\"),\n",
    "    auth_credentials=os.getenv(\"WEAVIATE_API_KEY\"),\n",
    "    headers={\n",
    "        \"X-Cohere-Api-Key\": os.getenv(\"COHERE_API_KEY\"),\n",
    "    },\n",
    ")"
   ]
  },
  {
   "cell_type": "markdown",
   "id": "1a7a68ec",
   "metadata": {},
   "source": [
    "### Set up a collection"
   ]
  },
  {
   "cell_type": "code",
   "execution_count": 4,
   "id": "aac3093c",
   "metadata": {},
   "outputs": [],
   "source": [
    "client.collections.delete(\"Chunks\")"
   ]
  },
  {
   "cell_type": "code",
   "execution_count": 5,
   "id": "1bce4dfa",
   "metadata": {},
   "outputs": [
    {
     "data": {
      "text/plain": [
       "<weaviate.collections.collection.sync.Collection at 0x105e3bd60>"
      ]
     },
     "execution_count": 5,
     "metadata": {},
     "output_type": "execute_result"
    }
   ],
   "source": [
    "from weaviate.classes.config import Property, DataType, Configure, Tokenization\n",
    "\n",
    "client.collections.create(\n",
    "    name=\"Chunks\",\n",
    "    properties=[\n",
    "        Property(\n",
    "            name=\"document_title\",\n",
    "            data_type=DataType.TEXT,\n",
    "        ),\n",
    "        Property(\n",
    "            name=\"chunk\",\n",
    "            data_type=DataType.TEXT,\n",
    "        ),\n",
    "        Property(\n",
    "            name=\"chunk_number\",\n",
    "            data_type=DataType.INT,\n",
    "        ),\n",
    "        Property(\n",
    "            name=\"filename\",\n",
    "            data_type=DataType.TEXT,\n",
    "            tokenization=Tokenization.FIELD\n",
    "        ),\n",
    "    ],\n",
    "    vector_config=[\n",
    "        # Add `Configure.Vectors.text2vec_cohere` vector to the collection with:\n",
    "        # name: \"default\", source properties: [\"document_title\", \"chunk\"], and model: \"embed-v4.0\"\n",
    "        # BEGIN_SOLUTION\n",
    "        Configure.Vectors.text2vec_cohere(\n",
    "            name=\"default\",\n",
    "            source_properties=[\"document_title\", \"chunk\"],\n",
    "            model=\"embed-v4.0\"\n",
    "        )\n",
    "        # END_SOLUTION\n",
    "    ],\n",
    "    generative_config=Configure.Generative.cohere()\n",
    ")"
   ]
  },
  {
   "cell_type": "markdown",
   "id": "37f24e74",
   "metadata": {},
   "source": [
    "### Import data"
   ]
  },
  {
   "cell_type": "code",
   "execution_count": 6,
   "id": "a975565b",
   "metadata": {},
   "outputs": [],
   "source": [
    "chunks = client.collections.get(\"Chunks\")"
   ]
  },
  {
   "cell_type": "code",
   "execution_count": 7,
   "id": "fa01ede2",
   "metadata": {},
   "outputs": [
    {
     "name": "stderr",
     "output_type": "stream",
     "text": [
      "127it [00:00, 54488.20it/s]\n"
     ]
    }
   ],
   "source": [
    "from tqdm import tqdm\n",
    "\n",
    "with chunks.batch.fixed_size(batch_size=100) as batch:\n",
    "    for i, chunk_text in tqdm(enumerate(chunk_texts)):\n",
    "        obj = {\n",
    "            \"document_title\": \"Bosch WGG254Z0GR Manual\",\n",
    "            \"filename\": \"data/pdfs/manual_bosch_WGG254Z0GR.pdf\",\n",
    "            \"chunk\": chunk_text,\n",
    "            \"chunk_number\": i + 1,\n",
    "        }\n",
    "\n",
    "        # Add object to batch for import with (batch.add_object())\n",
    "        # BEGIN_SOLUTION\n",
    "        batch.add_object(\n",
    "            properties=obj\n",
    "        )\n",
    "        # END_SOLUTION"
   ]
  },
  {
   "cell_type": "markdown",
   "id": "f592d8f5",
   "metadata": {},
   "source": [
    "### RAG queries\n",
    "\n"
   ]
  },
  {
   "cell_type": "code",
   "execution_count": 8,
   "id": "c0f8a81e",
   "metadata": {},
   "outputs": [
    {
     "name": "stdout",
     "output_type": "stream",
     "text": [
      "Query response:\n",
      "Here's a list of tasks to maintain and clean your washing machine:\n",
      "\n",
      "1. Run an empty wash cycle periodically to clean the drum using a bleach-containing detergent. This helps prevent damage to the drum from low-temperature washing and lack of ventilation.\n",
      "\n",
      "2. Clean the detergent drawer by removing and rinsing it with water. Ensure to clean the opening for the drawer as well.\n",
      "\n",
      "3. Leave the appliance door and detergent drawer open after each use to allow residual water to evaporate.\n",
      "\n",
      "4. Brush off sand and soil from laundry before washing. Sort and prepare your laundry appropriately.\n",
      "\n",
      "5. Clean the drain pump by unscrewing the pump cap and removing any dirt and debris. Ensure the impeller can rotate freely.\n",
      "\n",
      "6. Wipe down the rubber gasket around the door to remove any foreign objects and dry it.\n",
      "\n",
      "7. Run a draining program after each wash to prevent unused detergent from flowing into the outlet.\n",
      "\n",
      "Refer to the manual for specific instructions on your washing machine model and stay safe by following the warnings and guidelines provided by the manufacturer.\n"
     ]
    }
   ],
   "source": [
    "# Try a RAG query with:\n",
    "# query (what to search for): \"how to clean the washing machine\" and\n",
    "# grouped_task (prompt): \"Briefly, what tasks do I need to perform to regularly maintain and clean the washing machine?\"\n",
    "# limit (how many objects to fetch): 10\n",
    "# BEGIN_SOLUTION\n",
    "response = chunks.generate.near_text(\n",
    "    query=\"how to clean the washing machine\",\n",
    "    limit=10,\n",
    "    grouped_task=\"Briefly, what tasks do I need to perform to regularly maintain and clean the washing machine?\"\n",
    ")\n",
    "# END_SOLUTION\n",
    "\n",
    "print(\"Query response:\")\n",
    "print(response.generative.text)"
   ]
  },
  {
   "cell_type": "markdown",
   "id": "40cc6cbf",
   "metadata": {},
   "source": [
    "### Recap - what's happening under the hood"
   ]
  },
  {
   "cell_type": "markdown",
   "id": "217d4730",
   "metadata": {},
   "source": [
    "![assets/llm_3_rag_weaviate.png](assets/llm_3_rag_weaviate.png)"
   ]
  },
  {
   "cell_type": "markdown",
   "id": "72249075",
   "metadata": {},
   "source": [
    "We can review the passages:"
   ]
  },
  {
   "cell_type": "code",
   "execution_count": 9,
   "id": "a151a2e0",
   "metadata": {},
   "outputs": [
    {
     "name": "stdout",
     "output_type": "stream",
     "text": [
      "Supporting passages:\n",
      "\n",
      "> Object: 2cdff00f-7a22-49ab-9f70-015503ce52af:\n",
      "\n",
      "##6.1 Starting an empty washing cycle\n",
      "\n",
      "Your appliance was inspected thoroughly before leaving the factory. To remove any residual water, run the first wash cycle without any laundry.\n",
      "\n",
      "1. Turn the pro...\n",
      "\n",
      "> Object: 5b5f1a47-5aec-45bd-86df-12fc6403b52c:\n",
      "\n",
      "##17.2 Cleaning the detergent drawer\n",
      "\n",
      "1. Pull out the detergent drawer.\n",
      "2. Press down on the insert and remove the detergent drawer.\n",
      "\n",
      "<!-- image -->\n",
      "\n",
      "- en Cleaning and servicing\n",
      "3. Pull out the inser...\n",
      "\n",
      "> Object: c5984496-bdff-4a9c-9c1d-3c93b4456e23:\n",
      "\n",
      "##Risk of injury!\n",
      "\n",
      "Permanently washing at low temperatures and a lack of ventilation for the appliance may damage the drum and cause injury.\n",
      "\n",
      "- Regularly run a programme for cleaning the drum or wash...\n",
      "\n",
      "> Object: b6c69941-c03f-4127-9aa9-0afb9333f1db:\n",
      "\n",
      "##17.1 Cleaning the drum\n",
      "\n",
      "<!-- image -->...\n",
      "\n",
      "> Object: f044bd00-bd51-47fb-b43c-636bae58c429:\n",
      "\n",
      "##Note\n",
      "\n",
      "The appliance and fabrics are protected when you prepare your laundry.\n",
      "\n",
      "- ¡ Brush off sand and soil\n",
      "- ¡ Sort the laundry according to colour and textiles and observe the care labels\n",
      "- ¡ Tie c...\n",
      "\n",
      "> Object: 262ca395-b177-4e3c-9448-3f45c9367a6b:\n",
      "\n",
      "##Before the next wash\n",
      "\n",
      "To prevent unused detergent from flowing straight into the outlet in the next wash, run a suitable programme for draining after you have emptied the drain pump.\n",
      "\n",
      "1. Open the w...\n",
      "\n",
      "> Object: 5fed1b7f-49a3-4c96-a74b-90add6c39a5a:\n",
      "\n",
      "##WARNING - Risk of explosion!\n",
      "\n",
      "Laundry that has been pretreated with cleaning agents that contain solvents may cause an explosion in the appliance.\n",
      "\n",
      "- Rinse pretreated laundry thoroughly with water ...\n",
      "\n",
      "> Object: 08ac18fb-69e5-4db3-9ab4-6e97b26e59eb:\n",
      "\n",
      "##13.12 Switching off the appliance\n",
      "\n",
      "1. Turn the programme selector to Off .\n",
      "2. Turn off the tap.\n",
      "3. Wipe the rubber gasket dry and remove any foreign objects.\n",
      "4. Leave the appliance door and deterge...\n",
      "\n",
      "> Object: 39e5f2ba-d7be-46ff-baa6-9a5b3b4c2e39:\n",
      "\n",
      "##Requirements\n",
      "\n",
      "- ¡ The laundry is prepared and sorted.\n",
      "- → \"Laundry\", Page 29\n",
      "- ¡ The drum is empty.\n",
      "1. Open the door.\n",
      "2. Place the laundry in the drum.\n",
      "3. Close the door.\n",
      "- Ensure that there is no ...\n",
      "\n",
      "> Object: b1552565-376f-470c-88fa-44173edba53d:\n",
      "\n",
      "##Cleaning the drain pump\n",
      "\n",
      "Requirement: The drain pump is empty. → Page 36\n",
      "\n",
      "1. Since water may remain in the drain pump, unscrew the pump cap carefully.\n",
      "2. -The filter insert in the pump housing may ...\n"
     ]
    }
   ],
   "source": [
    "print(\"Supporting passages:\")\n",
    "for o in response.objects:\n",
    "    print(f\"\\n> Object: {o.uuid}:\")\n",
    "    print(o.properties['chunk'][:200]+\"...\")"
   ]
  },
  {
   "cell_type": "code",
   "execution_count": 10,
   "id": "3d5845fe",
   "metadata": {},
   "outputs": [],
   "source": [
    "client.close()"
   ]
  }
 ],
 "metadata": {
  "kernelspec": {
   "display_name": "202507-lipari",
   "language": "python",
   "name": "python3"
  },
  "language_info": {
   "codemirror_mode": {
    "name": "ipython",
    "version": 3
   },
   "file_extension": ".py",
   "mimetype": "text/x-python",
   "name": "python",
   "nbconvert_exporter": "python",
   "pygments_lexer": "ipython3",
   "version": "3.10.16"
  }
 },
 "nbformat": 4,
 "nbformat_minor": 5
}
