{
 "cells": [
  {
   "cell_type": "code",
   "execution_count": 1,
   "id": "f8d06ab9",
   "metadata": {},
   "outputs": [
    {
     "data": {
      "text/plain": [
       "True"
      ]
     },
     "execution_count": 1,
     "metadata": {},
     "output_type": "execute_result"
    }
   ],
   "source": [
    "from dotenv import load_dotenv\n",
    "\n",
    "load_dotenv(override=True)"
   ]
  },
  {
   "cell_type": "markdown",
   "id": "7c4a081d",
   "metadata": {},
   "source": [
    "## Working with PDFs with images"
   ]
  },
  {
   "cell_type": "markdown",
   "id": "953ce690",
   "metadata": {},
   "source": [
    "PDFs contain more than rich formatting - they have images!\n",
    "\n",
    "<img src=\"data/imgs/hai_ai-index-report-2025_chapter2_final_07_of_86.jpg\" width=\"200px\" />\n",
    "<img src=\"data/imgs/hai_ai-index-report-2025_chapter2_final_32_of_86.jpg\" width=\"200px\" />\n",
    "<img src=\"data/imgs/hai_ai-index-report-2025_chapter2_final_49_of_86.jpg\" width=\"200px\" />\n",
    "\n",
    "How do we work with these for RAG?"
   ]
  },
  {
   "cell_type": "markdown",
   "id": "68d2d4de",
   "metadata": {},
   "source": [
    "### Approach 1 - Extract text and images separately"
   ]
  },
  {
   "cell_type": "markdown",
   "id": "50c0287c",
   "metadata": {},
   "source": [
    "Some libraries (like `docling`) can extract text and images from PDFs, and convert them into Markdown files."
   ]
  },
  {
   "cell_type": "code",
   "execution_count": 2,
   "id": "e3ea399d",
   "metadata": {},
   "outputs": [],
   "source": [
    "from pathlib import Path\n",
    "\n",
    "data_folder = Path(\"data/pdfs\")\n",
    "output_dir = Path(\"data/parsed\")\n",
    "output_dir.mkdir(parents=True, exist_ok=True)"
   ]
  },
  {
   "cell_type": "code",
   "execution_count": 3,
   "id": "23684011",
   "metadata": {},
   "outputs": [
    {
     "name": "stdout",
     "output_type": "stream",
     "text": [
      "Processing file: hai_ai-index-report-2025_chapter2_final.pdf\n",
      "Converting document data/pdfs/hai_ai-index-report-2025_chapter2_final.pdf to multimodal pages...\n",
      "Skipping data/parsed/hai_ai-index-report-2025_chapter2_final-parsed-w-imgs.md as it already exists.\n",
      "Processing file: howto-free-threading-python.pdf\n",
      "Converting document data/pdfs/howto-free-threading-python.pdf to multimodal pages...\n",
      "Skipping data/parsed/howto-free-threading-python-parsed-w-imgs.md as it already exists.\n",
      "Processing file: manual_bosch_WGG254Z0GR.pdf\n",
      "Converting document data/pdfs/manual_bosch_WGG254Z0GR.pdf to multimodal pages...\n",
      "Skipping data/parsed/manual_bosch_WGG254Z0GR-parsed-w-imgs.md as it already exists.\n"
     ]
    }
   ],
   "source": [
    "from docling.datamodel.base_models import InputFormat\n",
    "from docling.datamodel.pipeline_options import PdfPipelineOptions\n",
    "from docling.document_converter import DocumentConverter, PdfFormatOption\n",
    "from docling_core.types.doc import ImageRefMode\n",
    "\n",
    "IMAGE_RESOLUTION_SCALE = 2.0\n",
    "\n",
    "\n",
    "def parse_pdf_with_images(input_doc_path: Path, output_dir: Path):\n",
    "    # Reference: https://docling-project.github.io/docling/examples/export_figures/\n",
    "    md_filename = output_dir / f\"{input_doc_path.name.split('.')[0]}-parsed-w-imgs.md\"\n",
    "    if md_filename.exists():\n",
    "        print(f\"Skipping {md_filename} as it already exists.\")\n",
    "        return\n",
    "\n",
    "    pipeline_options = PdfPipelineOptions()\n",
    "    pipeline_options.images_scale = IMAGE_RESOLUTION_SCALE\n",
    "    pipeline_options.generate_picture_images = True\n",
    "\n",
    "    doc_converter = DocumentConverter(\n",
    "        format_options={\n",
    "            InputFormat.PDF: PdfFormatOption(pipeline_options=pipeline_options)\n",
    "        }\n",
    "    )\n",
    "\n",
    "    conv_res = doc_converter.convert(input_doc_path)\n",
    "\n",
    "    # Save markdown with embedded pictures\n",
    "    conv_res.document.save_as_markdown(md_filename, image_mode=ImageRefMode.REFERENCED)\n",
    "\n",
    "\n",
    "pdf_names = [f.name for f in data_folder.glob(\"*.pdf\") if f.is_file()]\n",
    "\n",
    "for pdf_fname in pdf_names:\n",
    "    print(f\"Processing file: {pdf_fname}\")\n",
    "\n",
    "    input_doc_path = data_folder / pdf_fname\n",
    "\n",
    "    print(f\"Converting document {input_doc_path} to multimodal pages...\")\n",
    "    parse_pdf_with_images(input_doc_path, output_dir)\n"
   ]
  },
  {
   "cell_type": "code",
   "execution_count": 4,
   "id": "22e8a60c",
   "metadata": {},
   "outputs": [
    {
     "name": "stdout",
     "output_type": "stream",
     "text": [
      "![Image](manual_bosch_WGG254Z0GR-parsed-w-imgs_artifacts/image_000000_d4664b79287c280d55474fa744bafbb6a892977e75d4baf4d92898bff5df14b5.png)\n",
      "\n",
      "![Image](manual_bosch_WGG254Z0GR-parsed-w-imgs_artifacts/image_000001_6c49944028c7cd7282f76d99434ed8c9aa3dab0af8411b4df8cbb8492adf5279.png)\n",
      "\n",
      "## Washing machine\n",
      "\n",
      "## WGG254Z0GR\n",
      "\n",
      "User manual and installation\n",
      "\n",
      "[en] instructions\n",
      "\n",
      "## Futher information and explanations are available online:\n",
      "\n",
      "![Image](manual_bosch_WGG254Z0GR-parsed-w-imgs_artifacts/image_000002_71ba2e278ecb31d5477d5b97185c8f2215227116e1615b161b0883eeea87bb26.png)\n",
      "\n",
      "## Table of contents\n",
      "\n",
      "| 1 Safety...........................................                      | 1 Safety...........................................                        | 4                           |\n",
      "|--------------------------------------------------------------------------|----------------------------------------------------------------------------|-----------------------------|\n",
      "| 1.1                                    \n"
     ]
    }
   ],
   "source": [
    "md_filepath = Path(\"data/parsed/manual_bosch_WGG254Z0GR-parsed-w-imgs.md\")\n",
    "md_txt = md_filepath.read_text()\n",
    "print(md_txt[:1000])"
   ]
  },
  {
   "cell_type": "markdown",
   "id": "6f0297db",
   "metadata": {},
   "source": [
    "#### Chunking text files with images"
   ]
  },
  {
   "cell_type": "markdown",
   "id": "a4ee9281",
   "metadata": {},
   "source": [
    "More complex than just text, since we need to handle images as well.\n",
    "\n",
    "- Must include entire image string in the chunk\n",
    "- When vectorizing, optionally include base64 of image\n",
    "    - Your embedding model must be multimodal\n",
    "\n",
    "Chunking becomes more complex."
   ]
  },
  {
   "cell_type": "markdown",
   "id": "bd48bb25",
   "metadata": {},
   "source": [
    "One method: try a specialized library like `chonkie` to handle this\n",
    "\n",
    "Chonkie offers a variety of chunking strategies:\n",
    "\n",
    "<img src=\"assets/chonkie_methods.png\" />"
   ]
  },
  {
   "cell_type": "markdown",
   "id": "7aeea62c",
   "metadata": {},
   "source": [
    "There isn't going to be a \"one size fits all\" solution for chunking PDFs with images. But these libraries can help you get started."
   ]
  },
  {
   "cell_type": "markdown",
   "id": "9daef5ae",
   "metadata": {},
   "source": [
    "Let's try a couple of different approaches:"
   ]
  },
  {
   "cell_type": "code",
   "execution_count": 5,
   "id": "7adb5c64",
   "metadata": {},
   "outputs": [],
   "source": [
    "from chonkie import RecursiveChunker\n",
    "\n",
    "# Initialize the recursive chunker to chunk Markdown\n",
    "chunker = RecursiveChunker.from_recipe(\"markdown\", lang=\"en\")"
   ]
  },
  {
   "cell_type": "code",
   "execution_count": 6,
   "id": "7d61fca6",
   "metadata": {},
   "outputs": [],
   "source": [
    "chunk_texts = chunker.chunk(md_txt)"
   ]
  },
  {
   "cell_type": "code",
   "execution_count": 7,
   "id": "4d8d48b6",
   "metadata": {},
   "outputs": [
    {
     "name": "stdout",
     "output_type": "stream",
     "text": [
      "\n",
      "========================================\n",
      "Token count: 569\n",
      "Chunk text:\n",
      "    ![Image](manual_bosch_WGG254Z0GR-parsed-w-imgs_artifacts/image_000000_d4664b7928\n",
      "    7c280d55474fa744bafbb6a892977e75d4baf4d92898bff5df14b5.png)\n",
      "    ![Image](manual_bosch_WGG254Z0GR-parsed-w-imgs_artifacts/image_000001_6c49944028\n",
      "    c7cd7282f76d99434ed8c9aa3dab0af8411b4df8cbb8492adf5279.png)  ## Washing machine\n",
      "    ## WGG254Z0GR  User manual and installation  [en] instructions  ## Futher\n",
      "    information and explanations are available online:\n",
      "    ![Image](manual_bosch_WGG254Z0GR-parsed-w-imgs_artifacts/image_000002_71...\n",
      "\n",
      "========================================\n",
      "Token count: 2046\n",
      "Chunk text:\n",
      "    ## Table of contents  | 1 Safety...........................................\n",
      "    | 1 Safety...........................................                        | 4\n",
      "    | |--------------------------------------------------------------------------|--\n",
      "    --------------------------------------------------------------------------|-----\n",
      "    ------------------------| | 1.1\n",
      "    | General information.................\n",
      "\n",
      "========================================\n",
      "Token count: 2024\n",
      "Chunk text:\n",
      "    | 3.2                                                                      |\n",
      "    Save energy and conserve resources.................................        | 11\n",
      "    | | 3.3                                                                      |\n",
      "    Energy saving mode ...............                                         | 11\n",
      "    | | 4 Installation and connection......                                      | 4\n",
      "    Installation and connection......                    ...\n",
      "\n",
      "========================================\n",
      "Token count: 921\n",
      "Chunk text:\n",
      "    | 5.2                                                                      |\n",
      "    Detergent drawer.....................                                      | 17\n",
      "    | | 5.3                                                                      |\n",
      "    Control panel...........................                                   | 18\n",
      "    | | 6 Before using for the first time ..                                     | 6\n",
      "    Before using for the first time ..                   ...\n",
      "\n",
      "========================================\n",
      "Token count: 1980\n",
      "Chunk text:\n",
      "    | 8 Buttons ......................................                            |\n",
      "    8 Buttons ......................................                            |\n",
      "    23 | |--------------------------------------------------------------------------\n",
      "    ---|----------------------------------------------------------------------------\n",
      "    -|------| | 9 Programmes..............................\n",
      "    | 9 Programmes..............................                                  |\n",
      "    25 | | 10 ...\n"
     ]
    }
   ],
   "source": [
    "import textwrap\n",
    "\n",
    "for chunk in chunk_texts[:5]:\n",
    "    print(f\"\\n\" + \"=\" * 40)\n",
    "    print(f\"Token count: {chunk.token_count}\")\n",
    "    print(f\"Chunk text:\")\n",
    "    wrapped_text = textwrap.fill(chunk.text[:500]+\"...\", width=80)\n",
    "    print(textwrap.indent(wrapped_text, \"    \"))"
   ]
  },
  {
   "cell_type": "markdown",
   "id": "991dde5e",
   "metadata": {},
   "source": [
    "Let's try a \"semantic\" chunker:"
   ]
  },
  {
   "cell_type": "code",
   "execution_count": 8,
   "id": "bc60d639",
   "metadata": {},
   "outputs": [],
   "source": [
    "from chonkie import SemanticChunker\n",
    "\n",
    "# Basic initialization with default parameters\n",
    "chunker = SemanticChunker(\n",
    "    embedding_model=\"minishlab/potion-base-8M\",  # Default model\n",
    "    threshold=0.5,                               # Similarity threshold (0-1) or (1-100) or \"auto\"\n",
    "    chunk_size=2048,                              # Maximum tokens per chunk\n",
    "    min_sentences=1                              # Initial sentences per chunk\n",
    ")"
   ]
  },
  {
   "cell_type": "code",
   "execution_count": 9,
   "id": "29aed757",
   "metadata": {},
   "outputs": [],
   "source": [
    "# Chunk text into `chunk_texts` as we've done before\n",
    "# BEGIN_SOLUTION\n",
    "chunk_texts = chunker.chunk(md_txt)\n",
    "# END_SOLUTION"
   ]
  },
  {
   "cell_type": "code",
   "execution_count": 10,
   "id": "e7042aec",
   "metadata": {},
   "outputs": [
    {
     "name": "stdout",
     "output_type": "stream",
     "text": [
      "\n",
      "========================================\n",
      "Token count: 200\n",
      "Chunk text:\n",
      "    ![Image](manual_bosch_WGG254Z0GR-parsed-w-imgs_artifacts/image_000000_d4664b7928\n",
      "    7c280d55474fa744bafbb6a892977e75d4baf4d92898bff5df14b5.png)\n",
      "    ![Image](manual_bosch_WGG254Z0GR-parsed-w-imgs_artifacts/image_000001_6c49944028\n",
      "    c7cd7282f76d99434ed8c9aa3dab0af8411b4df8cbb8492adf5279.png)  ## Washing machine\n",
      "    ## WGG254Z0GR  User manual and installation  [en] instructions  ## Futher\n",
      "    information and explanations are available online: ...\n",
      "\n",
      "========================================\n",
      "Token count: 134\n",
      "Chunk text:\n",
      "     ![Image](manual_bosch_WGG254Z0GR-parsed-w-imgs_artifacts/image_000002_71ba2e278\n",
      "    ecb31d5477d5b97185c8f2215227116e1615b161b0883eeea87bb26.png)  ## Table of\n",
      "    contents  | 1 Safety........................................... ...\n",
      "\n",
      "========================================\n",
      "Token count: 1953\n",
      "Chunk text:\n",
      "                         | 1 Safety...........................................\n",
      "    | 4                           | |-----------------------------------------------\n",
      "    ---------------------------|----------------------------------------------------\n",
      "    ------------------------|-----------------------------| | 1.1\n",
      "    | General information...................                                     | 4\n",
      "    | | ...\n",
      "\n",
      "========================================\n",
      "Token count: 1505\n",
      "Chunk text:\n",
      "    | 13.4 Loading laundry.....................                                   |\n",
      "    13.4 Loading laundry.....................                                   |\n",
      "    30 | | 13.5 Inserting the measuring aid for liquid detergent................\n",
      "    | 13.5 Inserting the measuring aid for liquid detergent................       |\n",
      "    30 | | 13.6 Use the measuring aid for liquid detergent .....................\n",
      "    | 13.6 Use the measuring aid for liquid detergent .....................       |\n",
      "    31 | | 13....\n",
      "\n",
      "========================================\n",
      "Token count: 91\n",
      "Chunk text:\n",
      "     ![Image](manual_bosch_WGG254Z0GR-parsed-w-imgs_artifacts/image_000003_43c217227\n",
      "    dc376eaa05bebc2bc182a5ada70f7ce71ab35b01a9a83735585f1c0.png)  ## 1 Safety\n",
      "    Observe the following safety instructions. ...\n"
     ]
    }
   ],
   "source": [
    "for chunk in chunk_texts[:5]:\n",
    "    print(f\"\\n\" + \"=\" * 40)\n",
    "    print(f\"Token count: {chunk.token_count}\")\n",
    "    print(f\"Chunk text:\")\n",
    "    wrapped_text = textwrap.fill(chunk.text[:500]+\"...\", width=80)\n",
    "    print(textwrap.indent(wrapped_text, \"    \"))"
   ]
  },
  {
   "cell_type": "markdown",
   "id": "92a2a8a4",
   "metadata": {},
   "source": [
    "### Set up Weaviate Collection"
   ]
  },
  {
   "cell_type": "code",
   "execution_count": 11,
   "id": "22933c0f",
   "metadata": {},
   "outputs": [
    {
     "name": "stderr",
     "output_type": "stream",
     "text": [
      "/Users/jphwang/code/demo-code/202507-lipari/.venv/lib/python3.10/site-packages/google/protobuf/runtime_version.py:98: UserWarning: Protobuf gencode version 5.29.0 is exactly one major version older than the runtime version 6.31.1 at v1/aggregate.proto. Please update the gencode to avoid compatibility violations in the next runtime release.\n",
      "  warnings.warn(\n",
      "/Users/jphwang/code/demo-code/202507-lipari/.venv/lib/python3.10/site-packages/google/protobuf/runtime_version.py:98: UserWarning: Protobuf gencode version 5.29.0 is exactly one major version older than the runtime version 6.31.1 at v1/base.proto. Please update the gencode to avoid compatibility violations in the next runtime release.\n",
      "  warnings.warn(\n",
      "/Users/jphwang/code/demo-code/202507-lipari/.venv/lib/python3.10/site-packages/google/protobuf/runtime_version.py:98: UserWarning: Protobuf gencode version 5.29.0 is exactly one major version older than the runtime version 6.31.1 at v1/base_search.proto. Please update the gencode to avoid compatibility violations in the next runtime release.\n",
      "  warnings.warn(\n",
      "/Users/jphwang/code/demo-code/202507-lipari/.venv/lib/python3.10/site-packages/google/protobuf/runtime_version.py:98: UserWarning: Protobuf gencode version 5.29.0 is exactly one major version older than the runtime version 6.31.1 at v1/batch_delete.proto. Please update the gencode to avoid compatibility violations in the next runtime release.\n",
      "  warnings.warn(\n",
      "/Users/jphwang/code/demo-code/202507-lipari/.venv/lib/python3.10/site-packages/google/protobuf/runtime_version.py:98: UserWarning: Protobuf gencode version 5.29.0 is exactly one major version older than the runtime version 6.31.1 at v1/batch.proto. Please update the gencode to avoid compatibility violations in the next runtime release.\n",
      "  warnings.warn(\n",
      "/Users/jphwang/code/demo-code/202507-lipari/.venv/lib/python3.10/site-packages/google/protobuf/runtime_version.py:98: UserWarning: Protobuf gencode version 5.29.0 is exactly one major version older than the runtime version 6.31.1 at v1/search_get.proto. Please update the gencode to avoid compatibility violations in the next runtime release.\n",
      "  warnings.warn(\n",
      "/Users/jphwang/code/demo-code/202507-lipari/.venv/lib/python3.10/site-packages/google/protobuf/runtime_version.py:98: UserWarning: Protobuf gencode version 5.29.0 is exactly one major version older than the runtime version 6.31.1 at v1/generative.proto. Please update the gencode to avoid compatibility violations in the next runtime release.\n",
      "  warnings.warn(\n",
      "/Users/jphwang/code/demo-code/202507-lipari/.venv/lib/python3.10/site-packages/google/protobuf/runtime_version.py:98: UserWarning: Protobuf gencode version 5.29.0 is exactly one major version older than the runtime version 6.31.1 at v1/properties.proto. Please update the gencode to avoid compatibility violations in the next runtime release.\n",
      "  warnings.warn(\n",
      "/Users/jphwang/code/demo-code/202507-lipari/.venv/lib/python3.10/site-packages/google/protobuf/runtime_version.py:98: UserWarning: Protobuf gencode version 5.29.0 is exactly one major version older than the runtime version 6.31.1 at v1/tenants.proto. Please update the gencode to avoid compatibility violations in the next runtime release.\n",
      "  warnings.warn(\n"
     ]
    }
   ],
   "source": [
    "import weaviate\n",
    "import os\n",
    "\n",
    "client = weaviate.connect_to_weaviate_cloud(\n",
    "    cluster_url=os.getenv(\"WEAVIATE_URL\"),\n",
    "    auth_credentials=os.getenv(\"WEAVIATE_API_KEY\"),\n",
    "    headers={\n",
    "        \"X-Cohere-Api-Key\": os.getenv(\"COHERE_API_KEY\"),\n",
    "    },\n",
    ")"
   ]
  },
  {
   "cell_type": "code",
   "execution_count": 12,
   "id": "842550b9",
   "metadata": {},
   "outputs": [],
   "source": [
    "client.collections.delete(\"Chunks\")"
   ]
  },
  {
   "cell_type": "code",
   "execution_count": 13,
   "id": "4e202bae",
   "metadata": {},
   "outputs": [
    {
     "data": {
      "text/plain": [
       "<weaviate.collections.collection.sync.Collection at 0x1489d65c0>"
      ]
     },
     "execution_count": 13,
     "metadata": {},
     "output_type": "execute_result"
    }
   ],
   "source": [
    "from weaviate.classes.config import Property, DataType, Configure, Tokenization\n",
    "\n",
    "client.collections.create(\n",
    "    name=\"Chunks\",\n",
    "    properties=[\n",
    "        Property(\n",
    "            name=\"document_title\",\n",
    "            data_type=DataType.TEXT,\n",
    "        ),\n",
    "        Property(\n",
    "            name=\"chunk\",\n",
    "            data_type=DataType.TEXT,\n",
    "        ),\n",
    "        Property(\n",
    "            name=\"chunk_number\",\n",
    "            data_type=DataType.INT,\n",
    "        ),\n",
    "        Property(\n",
    "            name=\"filename\",\n",
    "            data_type=DataType.TEXT,\n",
    "            tokenization=Tokenization.FIELD\n",
    "        ),\n",
    "    ],\n",
    "    vector_config=[\n",
    "        Configure.Vectors.text2vec_cohere(\n",
    "            name=\"default\",\n",
    "            source_properties=[\"document_title\", \"chunk\"],\n",
    "            model=\"embed-v4.0\"\n",
    "        )\n",
    "    ]\n",
    ")"
   ]
  },
  {
   "cell_type": "code",
   "execution_count": 14,
   "id": "7c9e2f9f",
   "metadata": {},
   "outputs": [],
   "source": [
    "chunks = client.collections.get(\"Chunks\")"
   ]
  },
  {
   "cell_type": "markdown",
   "id": "f34f3bad",
   "metadata": {},
   "source": [
    "### Import data"
   ]
  },
  {
   "cell_type": "code",
   "execution_count": 15,
   "id": "dee53991",
   "metadata": {},
   "outputs": [
    {
     "name": "stderr",
     "output_type": "stream",
     "text": [
      "171it [00:00, 60679.02it/s]\n",
      "{'message': 'Failed to send all objects in a batch of 71', 'error': 'WeaviateInsertManyAllFailedError(\\'Every object failed during insertion. Here is the set of all errors: send POST request: Post \"https://api.cohere.ai/v2/embed\": context deadline exceeded (Client.Timeout exceeded while awaiting headers)\\')'}\n",
      "{'message': 'Failed to send 71 objects in a batch of 71. Please inspect client.batch.failed_objects or collection.batch.failed_objects for the failed objects.'}\n"
     ]
    }
   ],
   "source": [
    "from tqdm import tqdm\n",
    "\n",
    "with chunks.batch.fixed_size(batch_size=100) as batch:\n",
    "    for i, chunk_text in tqdm(enumerate(chunk_texts)):\n",
    "        obj = {\n",
    "            \"document_title\": \"Bosch WGG254Z0GR Manual\",\n",
    "            \"filename\": \"data/pdfs/manual_bosch_WGG254Z0GR.pdf\",\n",
    "            \"chunk\": chunk_text.text,\n",
    "            \"chunk_number\": i + 1,\n",
    "        }\n",
    "\n",
    "        # Add object to batch for import with (batch.add_object())\n",
    "        # BEGIN_SOLUTION\n",
    "        batch.add_object(\n",
    "            properties=obj\n",
    "        )\n",
    "        # END_SOLUTION"
   ]
  },
  {
   "cell_type": "markdown",
   "id": "f0ed8bc9",
   "metadata": {},
   "source": [
    "### RAG queries\n",
    "\n",
    "How do we perform RAG in this scenario? "
   ]
  },
  {
   "cell_type": "markdown",
   "id": "cd3e0fed",
   "metadata": {},
   "source": [
    "This is a bit different, because we haven't embedded the images (or stored them in Weaviate).\n",
    "\n",
    "In this scenario, let's:\n",
    "\n",
    "- Retrieve text chunks\n",
    "- Get images referred to in the text\n",
    "- Convert the images to base64\n",
    "- Send (retrieved text + images + prompt) to LLM for RAG"
   ]
  },
  {
   "cell_type": "code",
   "execution_count": 16,
   "id": "cae8dd66",
   "metadata": {},
   "outputs": [
    {
     "name": "stdout",
     "output_type": "stream",
     "text": [
      "\n",
      "========================================\n",
      "\n",
      "![Image](manual_bosch_WGG254Z0GR-parsed-w-imgs_artifacts/image_000042_346828476ca0377e11aa024cf725f4fa099db6b690678ba9c0b9ffdaa6c1e5c8.png)\n",
      "\n",
      "On certain models, specific details such as the colour and shape may differ from those pictured.\n",
      "\n",
      "- 2 Maintenance flap for the drain pump → Page 36\n",
      "...\n",
      "\n",
      "========================================\n",
      "| Καθαρισμός κάδου (Drum Clean)             | Clean and care for the drum. Use this programme in the following cases: ¡ Before using the appliance for the first time ¡ If you regularly wash at temperatures of 40 °C or lower ¡ After a prolonged period of non-use Use washing powder that contains bleach. Add the washing powder containing bleach to compartment II for the main wash. → \"Detergent drawer\", Page 17 Halve the amount of detergent to avoid foaming.                                                                                                                                                                                                                                                                                                                                       | - 2              |\n",
      "\n",
      "- 2 Washing not possible\n",
      "...\n",
      "\n",
      "========================================\n",
      "Run the Καθαρισμός κάδου programme for clean- ing and caring for the drum and the outer tub. → \"Cleaning the drum\", Page 35                                        |\n",
      "|           | Voltage control system       | Flashes: The automatic voltage control system detects impermissible voltage drops. This will pause the programme. Note: The programme will continue when the voltage is permissible again. |\n",
      "\n",
      "⁠\n",
      "\n",
      "| Display    | Designation            | More information                                                                                                                                                                             |\n",
      "|------------|------------------------|----------------------------------------------------------------------------------------------------------------------------------------------------------------------------------------------|\n",
      "|            | Voltage control system | Flashes: The programme has been paused because of impermissible voltage drops. The voltage is p...\n",
      "\n",
      "========================================\n",
      "| Ξέβγαλμα (Rinse)                                 | Rinse and then spin the laundry, and drain the wa- ter. Programme setting: Max. 1400 rpm                                                                                                                                                                                                            | -                |\n",
      "| Στύψιμο/ Άντληση (Spin/Drain)                    | Spin and drain the water. If you only want to drain the water, activate . The laundry is not spun. ...\n",
      "\n",
      "========================================\n",
      "\n",
      "- Never operate a damaged appliance.\n",
      "- Never pull on the power cord to unplug the appliance. Always unplug the appliance at the mains.\n",
      "- If the appliance or the power cord is damaged, immediately unplug the power cord or switch off the fuse in the fuse box and turn off the water tap.\n",
      "- Call customer services. → Page 50\n",
      "\n",
      "An ingress of moisture can cause an electric shock.\n",
      "\n",
      "- Only use the appliance in enclosed spaces.\n",
      "- Never expose the appliance to intense heat or humidity.\n",
      "- Do not use steam- or high-pressure cleaners, hoses or sprays to clean the appliance.\n",
      "...\n",
      "\n",
      "========================================\n",
      "\n",
      "## ATTENTION!\n",
      "\n",
      "When draining, the water outlet hose is subject to water pressure and may come loose from the installed connection point.\n",
      "\n",
      "- Secure the water outlet hose against unintentional loosening.\n",
      "\n",
      "Note: Observe the draining heights. The maximum draining height is 100 cm.\n",
      "\n",
      "## Siphon\n",
      "\n",
      "...\n",
      "\n",
      "========================================\n",
      "\n",
      "![Image](manual_bosch_WGG254Z0GR-parsed-w-imgs_artifacts/image_000038_0b3a4fb371ed600912747d6f06921010954d7da9be43cac5cbcc8eeea6e9526c.png)\n",
      "\n",
      "Fix and secure the water outlet hose with an elbow\n",
      "\n",
      "→ Page 29 .\n",
      "...\n",
      "\n",
      "========================================\n",
      "\n",
      "- Repairs to the appliance should only be carried out by trained specialist staff.\n",
      "- Only use genuine spare parts when repairing the appliance.\n",
      "- If the power cord of this appliance is damaged, it must be replaced by the manufacturer, the manufacturer's Customer Service or a similarly qualified person in order to prevent any risk.\n",
      "\n",
      "An ingress of moisture can cause an electric shock.\n",
      "\n",
      "- Do not use steam- or high-pressure cleaners, hoses or sprays to clean the appliance.\n",
      "...\n",
      "\n",
      "========================================\n",
      "Contact with eyes or skin may cause irritation.\n",
      "\n",
      "- Rinse eyes and/or skin thoroughly with clean water if they come into contact with detergents or care products.\n",
      "- If accidentally swallowed, seek medical advice.\n",
      "- Keep detergents and care products out of the reach of children.\n",
      "\n",
      "## 1.6 Safe cleaning and maintenance\n",
      "...\n",
      "\n",
      "========================================\n",
      "\n",
      "- Only use the manufacturer's original spare parts and original accessories.\n",
      "\n",
      "![Image](manual_bosch_WGG254Z0GR-parsed-w-imgs_artifacts/image_000021_509cb34565bd9209d88d4b7d0853ba31bf7e0da67e8198decfafa366aa281a1a.png)\n",
      "\n",
      "## WARNING - Risk of poisoning!\n",
      "\n",
      "Poisonous fumes may be given off if you use cleaning agents that contain solvents.\n",
      "...\n"
     ]
    }
   ],
   "source": [
    "response = chunks.query.hybrid(\n",
    "    query=\"How to clean the drain pump\",\n",
    "    limit=10\n",
    ")\n",
    "\n",
    "for o in response.objects:\n",
    "    print(f\"\\n\" + \"=\" * 40)\n",
    "    print(o.properties[\"chunk\"][:1000] + \"...\")"
   ]
  },
  {
   "cell_type": "code",
   "execution_count": 17,
   "id": "5a729583",
   "metadata": {},
   "outputs": [],
   "source": [
    "import re\n",
    "\n",
    "def extract_image_paths(text):\n",
    "    \"\"\"Extract image paths from markdown-style image references.\"\"\"\n",
    "    pattern = r'!\\[.*?\\]\\((.*?)\\)'\n",
    "    return re.findall(pattern, text)"
   ]
  },
  {
   "cell_type": "code",
   "execution_count": 18,
   "id": "9d036efe",
   "metadata": {},
   "outputs": [],
   "source": [
    "def get_image_base64s(image_paths, base_path=None):\n",
    "    import base64\n",
    "    base64_images = []\n",
    "    for img_path in image_paths:\n",
    "        full_path = Path(base_path) / img_path if base_path else Path(img_path)\n",
    "        image_bytes = full_path.read_bytes()\n",
    "        base64_string = base64.b64encode(image_bytes).decode(\"utf-8\")\n",
    "        base64_images.append(base64_string)\n",
    "\n",
    "    return base64_images"
   ]
  },
  {
   "cell_type": "code",
   "execution_count": 19,
   "id": "430397bd",
   "metadata": {},
   "outputs": [],
   "source": [
    "all_chunks = \"\"\n",
    "all_images = []\n",
    "\n",
    "for o in response.objects:\n",
    "    chunk_text = o.properties[\"chunk\"]\n",
    "    image_paths = extract_image_paths(chunk_text)\n",
    "    all_images.extend(get_image_base64s(image_paths, base_path=\"data/parsed\"))\n",
    "\n",
    "    all_chunks += \"\\n\\n\" + chunk_text"
   ]
  },
  {
   "cell_type": "code",
   "execution_count": 20,
   "id": "d93da885",
   "metadata": {},
   "outputs": [],
   "source": [
    "task_text = \"\"\"\n",
    "How do I clean the drain pump? Answer based on the provided text and images.\n",
    "\n",
    "Describe the details from the figures as well, if necessary.\n",
    "\"\"\" + \"\\n\\n\" + all_chunks\n",
    "\n",
    "message = {\n",
    "    \"role\": \"user\", \"content\": [\n",
    "        {\"type\": \"text\", \"text\": task_text}\n",
    "    ]\n",
    "}\n",
    "\n",
    "for img in all_images:\n",
    "    content = {\n",
    "        \"type\": \"image\",\n",
    "        \"source\": {\n",
    "            \"type\": \"base64\",\n",
    "            \"media_type\": \"image/png\",\n",
    "            \"data\": img,\n",
    "        }\n",
    "    }\n",
    "    # Append `content`` to message[\"content\"]\n",
    "    # BEGIN_SOLUTION\n",
    "    message[\"content\"].append(content)\n",
    "    # END_SOLUTION"
   ]
  },
  {
   "cell_type": "code",
   "execution_count": 21,
   "id": "0ee4c148",
   "metadata": {},
   "outputs": [],
   "source": [
    "import anthropic\n",
    "\n",
    "anthropic_response = anthropic.Anthropic().messages.create(\n",
    "    model=\"claude-sonnet-4-20250514\",\n",
    "    max_tokens=1024,\n",
    "    # Add [message] as the messages to pass to Claude\n",
    "    # BEGIN_SOLUTION\n",
    "    messages=[message]\n",
    "    # END_SOLUTION\n",
    ")"
   ]
  },
  {
   "cell_type": "code",
   "execution_count": 22,
   "id": "754f2923",
   "metadata": {},
   "outputs": [
    {
     "name": "stdout",
     "output_type": "stream",
     "text": [
      "Based on the provided text and images, here's how to clean the drain pump:\n",
      "\n",
      "## Location of the Drain Pump\n",
      "The drain pump can be accessed through the **maintenance flap** (labeled as item 2 in the first image), which is located at the bottom front of the washing machine.\n",
      "\n",
      "## Cleaning Steps\n",
      "The text references that detailed instructions for cleaning the drain pump can be found on \"Page 36\" of the manual, but those specific step-by-step instructions are not included in the provided excerpt.\n",
      "\n",
      "## Important Safety Information\n",
      "Before cleaning the drain pump, note these safety precautions mentioned in the text:\n",
      "\n",
      "- **Switch off the appliance** and unplug it from the mains\n",
      "- **Turn off the water tap**\n",
      "- Be aware that **when draining, the water outlet hose is subject to water pressure** and may come loose\n",
      "- **Secure the water outlet hose** against unintentional loosening\n",
      "- Never use **steam or high-pressure cleaners** on the appliance\n",
      "\n",
      "## What the Images Show\n",
      "- **First image**: Shows the front view of the washing machine with the maintenance flap (item 2) clearly marked at the bottom\n",
      "- **Second image**: Shows the installation setup with water connections and drainage system\n",
      "- **Third image**: Appears to show drainage setup details\n",
      "\n",
      "To get the complete step-by-step cleaning procedure, you would need to refer to page 36 of the full manual, which contains the detailed drain pump cleaning instructions.\n"
     ]
    }
   ],
   "source": [
    "print(anthropic_response.content[0].text)"
   ]
  },
  {
   "cell_type": "code",
   "execution_count": 23,
   "id": "54d3533e",
   "metadata": {},
   "outputs": [],
   "source": [
    "client.close()"
   ]
  },
  {
   "cell_type": "code",
   "execution_count": null,
   "id": "5d67fd35",
   "metadata": {},
   "outputs": [],
   "source": []
  }
 ],
 "metadata": {
  "kernelspec": {
   "display_name": "202507-lipari",
   "language": "python",
   "name": "python3"
  },
  "language_info": {
   "codemirror_mode": {
    "name": "ipython",
    "version": 3
   },
   "file_extension": ".py",
   "mimetype": "text/x-python",
   "name": "python",
   "nbconvert_exporter": "python",
   "pygments_lexer": "ipython3",
   "version": "3.10.16"
  }
 },
 "nbformat": 4,
 "nbformat_minor": 5
}
