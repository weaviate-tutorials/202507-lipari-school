{
 "cells": [
  {
   "cell_type": "code",
   "execution_count": 1,
   "id": "3e6a45f0",
   "metadata": {},
   "outputs": [
    {
     "data": {
      "text/plain": [
       "True"
      ]
     },
     "execution_count": 1,
     "metadata": {},
     "output_type": "execute_result"
    }
   ],
   "source": [
    "from dotenv import load_dotenv\n",
    "\n",
    "load_dotenv(override=True)"
   ]
  },
  {
   "cell_type": "markdown",
   "id": "0fd7f076",
   "metadata": {},
   "source": [
    "## Working with PDFs as images"
   ]
  },
  {
   "cell_type": "markdown",
   "id": "607b9a25",
   "metadata": {},
   "source": [
    "### Approach 2: Use the entire page!\n",
    "\n",
    "How do we mentally split PDFs? We usually think of them as a set of pages. We can do the same with PDFs, by embedding the entire page!\n",
    "\n",
    "<img src=\"data/imgs/hai_ai-index-report-2025_chapter2_final_07_of_86.jpg\" width=\"200px\" />\n",
    "<img src=\"data/imgs/hai_ai-index-report-2025_chapter2_final_32_of_86.jpg\" width=\"200px\" />\n",
    "<img src=\"data/imgs/hai_ai-index-report-2025_chapter2_final_49_of_86.jpg\" width=\"200px\" />"
   ]
  },
  {
   "cell_type": "code",
   "execution_count": 2,
   "id": "b47094cc",
   "metadata": {},
   "outputs": [
    {
     "name": "stderr",
     "output_type": "stream",
     "text": [
      "/Users/jphwang/code/demo-code/202507-lipari/.venv/lib/python3.10/site-packages/google/protobuf/runtime_version.py:98: UserWarning: Protobuf gencode version 5.29.0 is exactly one major version older than the runtime version 6.31.1 at v1/aggregate.proto. Please update the gencode to avoid compatibility violations in the next runtime release.\n",
      "  warnings.warn(\n",
      "/Users/jphwang/code/demo-code/202507-lipari/.venv/lib/python3.10/site-packages/google/protobuf/runtime_version.py:98: UserWarning: Protobuf gencode version 5.29.0 is exactly one major version older than the runtime version 6.31.1 at v1/base.proto. Please update the gencode to avoid compatibility violations in the next runtime release.\n",
      "  warnings.warn(\n",
      "/Users/jphwang/code/demo-code/202507-lipari/.venv/lib/python3.10/site-packages/google/protobuf/runtime_version.py:98: UserWarning: Protobuf gencode version 5.29.0 is exactly one major version older than the runtime version 6.31.1 at v1/base_search.proto. Please update the gencode to avoid compatibility violations in the next runtime release.\n",
      "  warnings.warn(\n",
      "/Users/jphwang/code/demo-code/202507-lipari/.venv/lib/python3.10/site-packages/google/protobuf/runtime_version.py:98: UserWarning: Protobuf gencode version 5.29.0 is exactly one major version older than the runtime version 6.31.1 at v1/batch_delete.proto. Please update the gencode to avoid compatibility violations in the next runtime release.\n",
      "  warnings.warn(\n",
      "/Users/jphwang/code/demo-code/202507-lipari/.venv/lib/python3.10/site-packages/google/protobuf/runtime_version.py:98: UserWarning: Protobuf gencode version 5.29.0 is exactly one major version older than the runtime version 6.31.1 at v1/batch.proto. Please update the gencode to avoid compatibility violations in the next runtime release.\n",
      "  warnings.warn(\n",
      "/Users/jphwang/code/demo-code/202507-lipari/.venv/lib/python3.10/site-packages/google/protobuf/runtime_version.py:98: UserWarning: Protobuf gencode version 5.29.0 is exactly one major version older than the runtime version 6.31.1 at v1/search_get.proto. Please update the gencode to avoid compatibility violations in the next runtime release.\n",
      "  warnings.warn(\n",
      "/Users/jphwang/code/demo-code/202507-lipari/.venv/lib/python3.10/site-packages/google/protobuf/runtime_version.py:98: UserWarning: Protobuf gencode version 5.29.0 is exactly one major version older than the runtime version 6.31.1 at v1/generative.proto. Please update the gencode to avoid compatibility violations in the next runtime release.\n",
      "  warnings.warn(\n",
      "/Users/jphwang/code/demo-code/202507-lipari/.venv/lib/python3.10/site-packages/google/protobuf/runtime_version.py:98: UserWarning: Protobuf gencode version 5.29.0 is exactly one major version older than the runtime version 6.31.1 at v1/properties.proto. Please update the gencode to avoid compatibility violations in the next runtime release.\n",
      "  warnings.warn(\n",
      "/Users/jphwang/code/demo-code/202507-lipari/.venv/lib/python3.10/site-packages/google/protobuf/runtime_version.py:98: UserWarning: Protobuf gencode version 5.29.0 is exactly one major version older than the runtime version 6.31.1 at v1/tenants.proto. Please update the gencode to avoid compatibility violations in the next runtime release.\n",
      "  warnings.warn(\n"
     ]
    }
   ],
   "source": [
    "import weaviate\n",
    "import os\n",
    "\n",
    "client = weaviate.connect_to_weaviate_cloud(\n",
    "    cluster_url=os.getenv(\"WEAVIATE_URL\"),\n",
    "    auth_credentials=os.getenv(\"WEAVIATE_API_KEY\"),\n",
    "    headers={\n",
    "        \"X-Cohere-Api-Key\": os.getenv(\"COHERE_API_KEY\"),\n",
    "        \"X-Anthropic-Api-Key\": os.getenv(\"ANTHROPIC_API_KEY\"),\n",
    "    },\n",
    ")"
   ]
  },
  {
   "cell_type": "code",
   "execution_count": 3,
   "id": "7fdf0c5d",
   "metadata": {},
   "outputs": [],
   "source": [
    "client.collections.delete(\"Pages\")"
   ]
  },
  {
   "cell_type": "code",
   "execution_count": 4,
   "id": "f4e16e5f",
   "metadata": {},
   "outputs": [
    {
     "data": {
      "text/plain": [
       "<weaviate.collections.collection.sync.Collection at 0x110149e40>"
      ]
     },
     "execution_count": 4,
     "metadata": {},
     "output_type": "execute_result"
    }
   ],
   "source": [
    "from weaviate.classes.config import Property, DataType, Configure, Tokenization\n",
    "\n",
    "client.collections.create(\n",
    "    name=\"Pages\",\n",
    "    properties=[\n",
    "        Property(\n",
    "            name=\"document_title\",\n",
    "            data_type=DataType.TEXT,\n",
    "        ),\n",
    "        Property(\n",
    "            name=\"page_image\",\n",
    "            data_type=DataType.BLOB,\n",
    "        ),\n",
    "        Property(\n",
    "            name=\"filename\",\n",
    "            data_type=DataType.TEXT,\n",
    "            tokenization=Tokenization.FIELD\n",
    "        ),\n",
    "    ],\n",
    "    vector_config=[\n",
    "        # Add `Configure.Vectors.multi2vec_cohere` vector to the collection with:\n",
    "        # name: \"default\", source properties: [\"page_image\"], and model: \"embed-v4.0\"\n",
    "        # BEGIN_SOLUTION\n",
    "        Configure.Vectors.multi2vec_cohere(\n",
    "            name=\"default\",\n",
    "            image_fields=[\"page_image\"],\n",
    "            model=\"embed-v4.0\"\n",
    "        )\n",
    "        # END_SOLUTION\n",
    "    ]\n",
    ")"
   ]
  },
  {
   "cell_type": "code",
   "execution_count": 5,
   "id": "f6b2e440",
   "metadata": {},
   "outputs": [],
   "source": [
    "pages = client.collections.get(\"Pages\")"
   ]
  },
  {
   "cell_type": "markdown",
   "id": "7eee6dd2",
   "metadata": {},
   "source": [
    "Load pre-computed vectors & metadata"
   ]
  },
  {
   "cell_type": "code",
   "execution_count": 6,
   "id": "c8566e1e",
   "metadata": {},
   "outputs": [],
   "source": [
    "import numpy as np\n",
    "import json\n",
    "\n",
    "with open(\"data/embeddings/embeddings_metadata.json\", \"r\") as f:\n",
    "    metadata = json.load(f)\n",
    "\n",
    "embeddings = np.load(\"data/embeddings/image_embeddings.npy\")"
   ]
  },
  {
   "cell_type": "markdown",
   "id": "2cf5ad58",
   "metadata": {},
   "source": [
    "Import data"
   ]
  },
  {
   "cell_type": "code",
   "execution_count": 7,
   "id": "a58a9a67",
   "metadata": {},
   "outputs": [
    {
     "name": "stderr",
     "output_type": "stream",
     "text": [
      "56it [00:00, 2332.55it/s]\n"
     ]
    }
   ],
   "source": [
    "from tqdm import tqdm\n",
    "from pathlib import Path\n",
    "import base64\n",
    "\n",
    "with pages.batch.fixed_size(batch_size=100) as batch:\n",
    "    for i, embedding in tqdm(enumerate(embeddings)):\n",
    "        filepath = Path(metadata[\"image_paths\"][i])\n",
    "        image = filepath.read_bytes()\n",
    "        base64_image = base64.b64encode(image).decode('utf-8')\n",
    "        obj = {\n",
    "            \"document_title\": \"Bosch WGG254Z0GR Manual\",\n",
    "            \"page_image\": base64_image,\n",
    "            \"filename\": filepath.name\n",
    "        }\n",
    "\n",
    "        # Add object to batch for import with (batch.add_object())\n",
    "        # This time, manually provide the vector with `{\"default\": embedding}`\n",
    "        # BEGIN_SOLUTION\n",
    "        batch.add_object(\n",
    "            properties=obj,\n",
    "            vector={\"default\": embedding}\n",
    "        )\n",
    "        # END_SOLUTION"
   ]
  },
  {
   "cell_type": "code",
   "execution_count": 8,
   "id": "d3ba2c7b",
   "metadata": {},
   "outputs": [],
   "source": [
    "from weaviate.classes.generate import GenerativeConfig, GenerativeParameters\n",
    "\n",
    "prompt = GenerativeParameters.grouped_task(\n",
    "    prompt=\"How do I clean the drain pump? Please describe the steps in detail based on the provided images.\",\n",
    "    image_properties=[\"page_image\"],  # Property containing images in Weaviate\n",
    ")\n",
    "\n",
    "\n",
    "response = pages.generate.near_text(\n",
    "    # Try a RAG query with:\n",
    "    # query (what to search for): \"How to clean the drain pump\" and\n",
    "    # limit (how many objects to fetch): 3\n",
    "    # grouped_task (prompt): prompt defined above\n",
    "    # BEGIN_SOLUTION\n",
    "    query=\"How to clean the drain pump\",\n",
    "    limit=3,\n",
    "    grouped_task=prompt,\n",
    "    # END_SOLUTION\n",
    "    # Runtime definition of what generative AI model provider to use\n",
    "    generative_provider=GenerativeConfig.anthropic()\n",
    ")"
   ]
  },
  {
   "cell_type": "code",
   "execution_count": 9,
   "id": "3a683418",
   "metadata": {},
   "outputs": [
    {
     "name": "stdout",
     "output_type": "stream",
     "text": [
      "Based on the images provided, here are the detailed steps to clean the drain pump:\n",
      "\n",
      "1. Ensure the drain pump is empty. Refer to page 36 for emptdrain pump.\n",
      "\n",
      "2. Since water may remain in the drain pump, unscrew the pump cap carefully.\n",
      "   - The filter insert in the pump housing may become stuck due to coarse particles of dirt. Loosen the dirt and remove the filter insert.\n",
      "\n",
      "3. Clean the interior, the thread on the pump cap, and the pump housing.\n",
      "   - The pump cap is comprised of two parts which can be taken apart for cleaning.\n",
      "\n",
      "4. Ensure that the impeller in the drain pump can rotate.\n",
      "\n",
      "5. Insert the pump cap.\n",
      "   - Ensure that the parts of the pump cap are correctly assembled.\n",
      "\n",
      "6. Screw the pump cap as far as it will go.\n",
      "   - The handle on the pump cap must be in a vertical position.\n",
      "\n",
      "7. Insert and close the service flap.\n",
      "\n",
      "It's recommended to clean the drain pump regularly, at least once a year, as well as in the event of faults like blockages or rattling noises.\n",
      "\n",
      "Before the next wash:\n",
      "1. Open the water tap.\n",
      "2. Insert the mains plug.\n",
      "3. Switch on the appliance.\n",
      "4. Pour 1 litre of water into compartment II.\n",
      "5. Select a suitable programme for draining.\n",
      "\n",
      "This process helps prevent unused detergent from flowing straight into the outlet in the next wash.\n"
     ]
    }
   ],
   "source": [
    "print(response.generative.text)"
   ]
  },
  {
   "cell_type": "code",
   "execution_count": 10,
   "id": "3225057c",
   "metadata": {},
   "outputs": [
    {
     "name": "stdout",
     "output_type": "stream",
     "text": [
      "Filename: manual_bosch_WGG254Z0GR_38_of_56.jpg\n",
      "Filename: manual_bosch_WGG254Z0GR_36_of_56.jpg\n",
      "Filename: manual_bosch_WGG254Z0GR_39_of_56.jpg\n"
     ]
    }
   ],
   "source": [
    "for o in response.objects:\n",
    "    print(f\"Filename: {o.properties['filename']}\")"
   ]
  },
  {
   "cell_type": "code",
   "execution_count": 11,
   "id": "e2e89bf6",
   "metadata": {},
   "outputs": [],
   "source": [
    "client.close()"
   ]
  },
  {
   "cell_type": "code",
   "execution_count": null,
   "id": "6bbdd760",
   "metadata": {},
   "outputs": [],
   "source": []
  }
 ],
 "metadata": {
  "kernelspec": {
   "display_name": "202507-lipari",
   "language": "python",
   "name": "python3"
  },
  "language_info": {
   "codemirror_mode": {
    "name": "ipython",
    "version": 3
   },
   "file_extension": ".py",
   "mimetype": "text/x-python",
   "name": "python",
   "nbconvert_exporter": "python",
   "pygments_lexer": "ipython3",
   "version": "3.10.16"
  }
 },
 "nbformat": 4,
 "nbformat_minor": 5
}
